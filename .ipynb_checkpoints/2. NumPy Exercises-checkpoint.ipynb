{
 "cells": [
  {
   "cell_type": "markdown",
   "metadata": {},
   "source": [
    "# Part 2: NumPy Exercises\n",
    "\n",
    "NumPy's object is the homogeneous multidimensional array. In this exercise, you'll learn common operations of NumPy. <br>\n",
    "\n",
    "1) Basics <br>\n",
    "2) Indexing, Slicing & Concatenation <br>\n",
    "\n",
    "Time to complete: 15 mins"
   ]
  },
  {
   "cell_type": "markdown",
   "metadata": {},
   "source": [
    "## Import NumPy Library"
   ]
  },
  {
   "cell_type": "code",
   "execution_count": 1,
   "metadata": {},
   "outputs": [],
   "source": [
    "import numpy as np"
   ]
  },
  {
   "cell_type": "markdown",
   "metadata": {},
   "source": [
    "## 1. Basics\n",
    "NumPy list can be constructed with np.array(list). "
   ]
  },
  {
   "cell_type": "code",
   "execution_count": null,
   "metadata": {},
   "outputs": [],
   "source": [
    "list1 = [1,2,3,4,5]\n",
    "x = np.array(list1)"
   ]
  },
  {
   "cell_type": "markdown",
   "metadata": {},
   "source": [
    "Unlike Python lists, NumPy does not allow the elements of different types. If types do no match, NumPy will upcast if possible."
   ]
  },
  {
   "cell_type": "code",
   "execution_count": 2,
   "metadata": {},
   "outputs": [
    {
     "data": {
      "text/plain": [
       "array(['1', '2', '3', '4', '5'], dtype='<U21')"
      ]
     },
     "execution_count": 2,
     "metadata": {},
     "output_type": "execute_result"
    }
   ],
   "source": [
    "x = np.array([1,2,3,\"4\",\"5\"])\n",
    "x"
   ]
  },
  {
   "cell_type": "markdown",
   "metadata": {},
   "source": [
    "### Exercise 1.1. Create a ndarray with the following list with type `float`. <br>\n",
    "`[\"1\",\"2\",\"3\",\"4\",\"5\"]`"
   ]
  },
  {
   "cell_type": "code",
   "execution_count": 3,
   "metadata": {},
   "outputs": [
    {
     "data": {
      "text/plain": [
       "array([1., 2., 3., 4., 5.])"
      ]
     },
     "execution_count": 3,
     "metadata": {},
     "output_type": "execute_result"
    }
   ],
   "source": [
    "# Your answer for Exercise 1.1.\n",
    "# x = np.array([], dtype=)\n",
    "# x"
   ]
  },
  {
   "cell_type": "markdown",
   "metadata": {},
   "source": [
    "### NumPy Array Attributes\n",
    "1. `ndim` - Number of dimensions <br>\n",
    "2. `shape` - Size of each dimension <br>\n",
    "3. `size` - Number of arrray elements <br>\n",
    "4. `dtype` - Type of elements in array <br>\n",
    "5. `itemsize` - size in bytes of each element of the array <br>\n",
    "\n",
    "### Exercise 1.2. Print attributes of array `x`."
   ]
  },
  {
   "cell_type": "code",
   "execution_count": 4,
   "metadata": {},
   "outputs": [
    {
     "name": "stdout",
     "output_type": "stream",
     "text": [
      "1\n",
      "(5,)\n",
      "5\n",
      "float64\n",
      "8\n"
     ]
    }
   ],
   "source": [
    "# Your answer for Exercise 1.2.\n",
    "# Use print()"
   ]
  },
  {
   "cell_type": "markdown",
   "metadata": {},
   "source": [
    "## 2. Placeholders "
   ]
  },
  {
   "cell_type": "markdown",
   "metadata": {},
   "source": [
    "Following NumPy functions are useful when you need to quickly generate an array of values that follow some rule. <br>\n",
    "1) `np.zeros(shape, dtype=<Type>, order='C')`<br>\n",
    "2) `np.ones(shape, dtype=<Type>, order='C')`<br>\n",
    "3) `np.full(shape, fill_value, dtype=<Type>, order='C')`<br>\n",
    "4) `np.arange([start,]stop[,step], dtype=None)`: Return evenly spaced values within a given interval <br>\n",
    "5) `np.linspace(start, stop, num=50, endpoint=True, retstep=False, dtype=None, axis=0)`: <br>"
   ]
  },
  {
   "cell_type": "code",
   "execution_count": 5,
   "metadata": {},
   "outputs": [
    {
     "data": {
      "text/plain": [
       "array([0, 1, 2, 3, 4, 5, 6, 7, 8, 9])"
      ]
     },
     "execution_count": 5,
     "metadata": {},
     "output_type": "execute_result"
    }
   ],
   "source": [
    "x = np.arange(0,10,1)\n",
    "x"
   ]
  },
  {
   "cell_type": "markdown",
   "metadata": {},
   "source": [
    "### Exercise 2.1. Generate a ndarray from 0 to 100 with step `2` using `np.arange`"
   ]
  },
  {
   "cell_type": "code",
   "execution_count": 6,
   "metadata": {},
   "outputs": [
    {
     "data": {
      "text/plain": [
       "array([ 0,  2,  4,  6,  8, 10, 12, 14, 16, 18, 20, 22, 24, 26, 28, 30, 32,\n",
       "       34, 36, 38, 40, 42, 44, 46, 48, 50, 52, 54, 56, 58, 60, 62, 64, 66,\n",
       "       68, 70, 72, 74, 76, 78, 80, 82, 84, 86, 88, 90, 92, 94, 96, 98])"
      ]
     },
     "execution_count": 6,
     "metadata": {},
     "output_type": "execute_result"
    }
   ],
   "source": [
    "# Your answer for Exercise 2.1."
   ]
  },
  {
   "cell_type": "markdown",
   "metadata": {},
   "source": [
    "## Random array generators - `np.random`\n",
    "The following methods are useful when you need to generate random arrays."
   ]
  },
  {
   "cell_type": "code",
   "execution_count": 7,
   "metadata": {
    "scrolled": true
   },
   "outputs": [
    {
     "data": {
      "text/plain": [
       "array([[ 1.64118564, -0.45914051,  0.24320704],\n",
       "       [ 1.64123041, -0.18189648, -0.91310361],\n",
       "       [-0.49149669,  0.09227876, -0.09599912]])"
      ]
     },
     "execution_count": 7,
     "metadata": {},
     "output_type": "execute_result"
    }
   ],
   "source": [
    "# Return random samples from a normal (Gaussian) distribution with loc \n",
    "# being the mean and scale being the standard deviation\n",
    "# np.random.normal(loc=0.0, scale=1.0, size=None)\n",
    "\n",
    "np.random.normal(0, 1, (3,3))"
   ]
  },
  {
   "cell_type": "code",
   "execution_count": 8,
   "metadata": {},
   "outputs": [
    {
     "data": {
      "text/plain": [
       "array([[9, 5, 9],\n",
       "       [5, 2, 3],\n",
       "       [4, 8, 2]])"
      ]
     },
     "execution_count": 8,
     "metadata": {},
     "output_type": "execute_result"
    }
   ],
   "source": [
    "# Return random integrers from `low` (inclusive) to `high` (exclusive)\n",
    "# np.random.randint((low, high=None, size=None, dtype='1'))\n",
    "\n",
    "np.random.randint(0, 10, (3,3))"
   ]
  },
  {
   "cell_type": "code",
   "execution_count": 9,
   "metadata": {},
   "outputs": [
    {
     "data": {
      "text/plain": [
       "array([[5, 0, 3],\n",
       "       [3, 7, 9],\n",
       "       [3, 5, 2]])"
      ]
     },
     "execution_count": 9,
     "metadata": {},
     "output_type": "execute_result"
    }
   ],
   "source": [
    "# seed(seed=None)\n",
    "# Seed the generator to make the random numbers reproducible\n",
    "\n",
    "np.random.seed(seed=0)\n",
    "np.random.randint(0,10,(3,3))"
   ]
  },
  {
   "cell_type": "markdown",
   "metadata": {},
   "source": [
    "### Exercise 2.2. Generate random 10x10 2D array with low=0, high=100 using  `randint`"
   ]
  },
  {
   "cell_type": "code",
   "execution_count": 10,
   "metadata": {},
   "outputs": [
    {
     "data": {
      "text/plain": [
       "array([[36, 87, 70, 88, 88, 12, 58, 65, 39, 87],\n",
       "       [46, 88, 81, 37, 25, 77, 72,  9, 20, 80],\n",
       "       [69, 79, 47, 64, 82, 99, 88, 49, 29, 19],\n",
       "       [19, 14, 39, 32, 65,  9, 57, 32, 31, 74],\n",
       "       [23, 35, 75, 55, 28, 34,  0,  0, 36, 53],\n",
       "       [ 5, 38, 17, 79,  4, 42, 58, 31,  1, 65],\n",
       "       [41, 57, 35, 11, 46, 82, 91,  0, 14, 99],\n",
       "       [53, 12, 42, 84, 75, 68,  6, 68, 47,  3],\n",
       "       [76, 52, 78, 15, 20, 99, 58, 23, 79, 13],\n",
       "       [85, 48, 49, 69, 41, 35, 64, 95, 69, 94]])"
      ]
     },
     "execution_count": 10,
     "metadata": {},
     "output_type": "execute_result"
    }
   ],
   "source": [
    "# Your answer for Exercise 2.2."
   ]
  },
  {
   "cell_type": "markdown",
   "metadata": {},
   "source": [
    "### 3. Indexing, Slicing & Concatenation"
   ]
  },
  {
   "cell_type": "code",
   "execution_count": 11,
   "metadata": {},
   "outputs": [
    {
     "data": {
      "text/plain": [
       "array([684, 559, 629, 192, 835, 763, 707, 359,   9, 723, 277, 754, 804,\n",
       "       599,  70])"
      ]
     },
     "execution_count": 11,
     "metadata": {},
     "output_type": "execute_result"
    }
   ],
   "source": [
    "np.random.seed(seed=0)\n",
    "x = np.random.randint(0, 1000, (15,))\n",
    "x"
   ]
  },
  {
   "cell_type": "markdown",
   "metadata": {},
   "source": [
    "### Exercise 3.1. Select alternate element from array `x` starting from index `0`."
   ]
  },
  {
   "cell_type": "code",
   "execution_count": 12,
   "metadata": {},
   "outputs": [
    {
     "data": {
      "text/plain": [
       "array([684, 629, 835, 707,   9, 277, 804,  70])"
      ]
     },
     "execution_count": 12,
     "metadata": {},
     "output_type": "execute_result"
    }
   ],
   "source": [
    "# Your answer for Exercise 3.1."
   ]
  },
  {
   "cell_type": "markdown",
   "metadata": {},
   "source": [
    "### Exercise 3.2. Get the elements greater than 700 from array `x`. "
   ]
  },
  {
   "cell_type": "code",
   "execution_count": 13,
   "metadata": {},
   "outputs": [
    {
     "data": {
      "text/plain": [
       "array([835, 763, 707, 723, 754, 804])"
      ]
     },
     "execution_count": 13,
     "metadata": {},
     "output_type": "execute_result"
    }
   ],
   "source": [
    "# ndarray[condition]\n",
    "# Your answer for Exercise 3.2."
   ]
  },
  {
   "cell_type": "markdown",
   "metadata": {},
   "source": [
    "### Exercise 3.3. Create two 1x3 `int` arrays and concatenate."
   ]
  },
  {
   "cell_type": "code",
   "execution_count": 14,
   "metadata": {},
   "outputs": [
    {
     "data": {
      "text/plain": [
       "array([5, 6, 3, 7, 4, 1])"
      ]
     },
     "execution_count": 14,
     "metadata": {},
     "output_type": "execute_result"
    }
   ],
   "source": [
    "# Your answer for Exercise 3.3. (Hint: use np.concatenate([]))\n",
    "# Hint: To create array use, np.array([], dtype=None)"
   ]
  }
 ],
 "metadata": {
  "kernelspec": {
   "display_name": "Python 3",
   "language": "python",
   "name": "python3"
  },
  "language_info": {
   "codemirror_mode": {
    "name": "ipython",
    "version": 3
   },
   "file_extension": ".py",
   "mimetype": "text/x-python",
   "name": "python",
   "nbconvert_exporter": "python",
   "pygments_lexer": "ipython3",
   "version": "3.7.3"
  }
 },
 "nbformat": 4,
 "nbformat_minor": 2
}
